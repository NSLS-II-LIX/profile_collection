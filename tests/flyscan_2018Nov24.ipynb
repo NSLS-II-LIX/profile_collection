{
 "cells": [
  {
   "cell_type": "code",
   "execution_count": 6,
   "metadata": {},
   "outputs": [
    {
     "name": "stdout",
     "output_type": "stream",
     "text": [
      "scan.rY ss2_ry\n",
      "scan.Y ss2_y\n",
      "scan.X ss2_x\n"
     ]
    }
   ],
   "source": [
    "%run -i traj_py "
   ]
  },
  {
   "cell_type": "code",
   "execution_count": 2,
   "metadata": {},
   "outputs": [
    {
     "name": "stdout",
     "output_type": "stream",
     "text": [
      "Logging hadn't been started.\n",
      "Activating auto-logging. Current session state plus future input saved.\n",
      "Filename       : /GPFS/xf16id/exp_path/test/test/log-test.2018Nov24_17:06:11\n",
      "Mode           : backup\n",
      "Output logging : True\n",
      "Raw input log  : True\n",
      "Timestamping   : True\n",
      "State          : active\n"
     ]
    }
   ],
   "source": [
    "login('test', 'test', 'test')"
   ]
  },
  {
   "cell_type": "code",
   "execution_count": 4,
   "metadata": {},
   "outputs": [],
   "source": [
    "DETS = [pil1M_ext, pilW1_ext, pilW2_ext]"
   ]
  },
  {
   "cell_type": "code",
   "execution_count": 7,
   "metadata": {},
   "outputs": [
    {
     "name": "stdout",
     "output_type": "stream",
     "text": [
      "setting up to collect 126 exposures of 0.20 sec ...\n",
      "pil1M_ext staging\n",
      "pil1M_ext stage sigs updated\n",
      "resetting file number for  pil1M_ext\n",
      "pil1M_ext super staged\n",
      "pil1M_ext checking armed status\n",
      "pil1M_ext staged\n",
      "pilW1_ext staging\n",
      "pilW1_ext stage sigs updated\n",
      "resetting file number for  pilW1_ext\n",
      "pilW1_ext super staged\n",
      "pilW1_ext checking armed status\n",
      "pilW1_ext staged\n",
      "pilW2_ext staging\n",
      "pilW2_ext stage sigs updated\n",
      "resetting file number for  pilW2_ext\n",
      "pilW2_ext super staged\n",
      "pilW2_ext checking armed status\n",
      "pilW2_ext staged\n",
      "Transient Scan ID: 1     Time: 2018/11/24 17:09:05\n",
      "Persistent Unique Scan ID: 'd4a8ac73-e7a7-4298-ab36-a798636fad0d'\n",
      "Scan ID: 1\n",
      "Unique ID: d4a8ac73-e7a7-4298-ab36-a798636fad0d\n",
      "#STARTDOC : 1543097345.25692\n",
      "#STARTDOC : Sat Nov 24 17:09:05 2018\n",
      "setting triggering parameters: 3, 23, 0.205\n",
      "setting triggering parameters: 3, 23, 0.205\n",
      "setting triggering parameters: 3, 23, 0.205\n",
      "setting triggering parameters: 3, 23, 0.205\n",
      "setting triggering parameters: 3, 23, 0.205\n",
      "setting triggering parameters: 3, 23, 0.205\n",
      "New stream: 'primary'\n",
      "+-----------+------------+\n",
      "|   seq_num |       time |\n",
      "+-----------+------------+\n",
      "in collect()\n",
      "+-----------+------------+\n",
      "generator raster ['d4a8ac73'] (scan num: 1)\n",
      "\n",
      "\n",
      "\n",
      "Scan ID: 1\n",
      "Unique ID: d4a8ac73-e7a7-4298-ab36-a798636fad0d\n"
     ]
    },
    {
     "data": {
      "text/plain": [
       "('d4a8ac73-e7a7-4298-ab36-a798636fad0d',)"
      ]
     },
     "execution_count": 7,
     "metadata": {},
     "output_type": "execute_result"
    }
   ],
   "source": [
    "RE(raster(DETS, 0.2, ss2.x, -0.1, 0.1, 21, ss2.y, -0.1, 0.1, 6))"
   ]
  },
  {
   "cell_type": "code",
   "execution_count": 9,
   "metadata": {},
   "outputs": [],
   "source": [
    "header = db[-1]"
   ]
  },
  {
   "cell_type": "code",
   "execution_count": 11,
   "metadata": {},
   "outputs": [
    {
     "data": {
      "text/plain": [
       "{'pil1M_ext_file_file_name',\n",
       " 'pil1M_ext_file_file_number',\n",
       " 'pil1M_ext_file_file_path',\n",
       " 'pil1M_ext_file_file_template',\n",
       " 'pil1M_ext_image',\n",
       " 'pilW1_ext_file_file_name',\n",
       " 'pilW1_ext_file_file_number',\n",
       " 'pilW1_ext_file_file_path',\n",
       " 'pilW1_ext_file_file_template',\n",
       " 'pilW1_ext_image',\n",
       " 'pilW2_ext_file_file_name',\n",
       " 'pilW2_ext_file_file_number',\n",
       " 'pilW2_ext_file_file_path',\n",
       " 'pilW2_ext_file_file_template',\n",
       " 'pilW2_ext_image',\n",
       " 'ss2_x',\n",
       " 'ss2_y'}"
      ]
     },
     "execution_count": 11,
     "metadata": {},
     "output_type": "execute_result"
    }
   ],
   "source": [
    "header.fields()"
   ]
  },
  {
   "cell_type": "code",
   "execution_count": 13,
   "metadata": {},
   "outputs": [
    {
     "name": "stdout",
     "output_type": "stream",
     "text": [
      "CBF handler called: start=1, stop=2\n",
      "   1 0 126\n",
      "   %s%s_%06d_WAXS2_%05d.cbf\n",
      "CBF handler called: start=1, stop=2\n",
      "   1 0 126\n",
      "   %s%s_%06d_WAXS1_%05d.cbf\n",
      "CBF handler called: start=1, stop=2\n",
      "   1 0 126\n",
      "   %s%s_%06d_SAXS_%05d.cbf\n"
     ]
    }
   ],
   "source": [
    "pilatus_trigger_mode = triggerMode.software_trigger_multi_frame\n",
    "data = db.get_table(header, fill=True)"
   ]
  },
  {
   "cell_type": "code",
   "execution_count": 15,
   "metadata": {},
   "outputs": [
    {
     "data": {
      "text/plain": [
       "(126, 619, 487)"
      ]
     },
     "execution_count": 15,
     "metadata": {},
     "output_type": "execute_result"
    }
   ],
   "source": [
    "data['pilW1_ext_image'][1].shape"
   ]
  },
  {
   "cell_type": "code",
   "execution_count": null,
   "metadata": {},
   "outputs": [],
   "source": []
  }
 ],
 "metadata": {
  "kernelspec": {
   "display_name": "Data Collection",
   "language": "",
   "name": "collection"
  },
  "language_info": {
   "codemirror_mode": {
    "name": "ipython",
    "version": 3
   },
   "file_extension": ".py",
   "mimetype": "text/x-python",
   "name": "python",
   "nbconvert_exporter": "python",
   "pygments_lexer": "ipython3",
   "version": "3.6.6"
  }
 },
 "nbformat": 4,
 "nbformat_minor": 2
}
