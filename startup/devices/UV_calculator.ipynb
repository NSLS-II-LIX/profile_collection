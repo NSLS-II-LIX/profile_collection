{
 "cells": [
  {
   "cell_type": "code",
   "execution_count": 1,
   "id": "622e3db4-eaf7-4c80-9f61-44904a350c19",
   "metadata": {
    "tags": []
   },
   "outputs": [],
   "source": [
    "import pandas as pd\n",
    "import numpy as np\n",
    "from scipy.integrate import trapezoid as tp\n",
    "from matplotlib import pylab as plt"
   ]
  },
  {
   "cell_type": "code",
   "execution_count": 2,
   "id": "b97848b0-ab95-4e52-a0a2-d623e7181361",
   "metadata": {
    "tags": []
   },
   "outputs": [],
   "source": [
    "df= pd.read_csv(\"2024-1-312712-311348c-Ghd7fl-MBP.dx_DAD1E.CSV\")"
   ]
  },
  {
   "cell_type": "code",
   "execution_count": 3,
   "id": "65a43121-bcc6-40ff-b2c7-726751137384",
   "metadata": {
    "tags": []
   },
   "outputs": [
    {
     "data": {
      "text/plain": [
       "Index(['0.00458333333333333', '0.0119209289550781'], dtype='object')"
      ]
     },
     "execution_count": 3,
     "metadata": {},
     "output_type": "execute_result"
    }
   ],
   "source": [
    "df.columns"
   ]
  },
  {
   "cell_type": "code",
   "execution_count": 4,
   "id": "57e0a983-6624-4685-9166-1e1f5b611341",
   "metadata": {
    "tags": []
   },
   "outputs": [
    {
     "ename": "NameError",
     "evalue": "name 'columns' is not defined",
     "output_type": "error",
     "traceback": [
      "\u001b[0;31m---------------------------------------------------------------------------\u001b[0m",
      "\u001b[0;31mNameError\u001b[0m                                 Traceback (most recent call last)",
      "Cell \u001b[0;32mIn[4], line 2\u001b[0m\n\u001b[1;32m      1\u001b[0m \u001b[38;5;66;03m###get UV columns and Wavelengths\u001b[39;00m\n\u001b[0;32m----> 2\u001b[0m uv_columns \u001b[38;5;241m=\u001b[39m df[\u001b[43mcolumns\u001b[49m]\u001b[38;5;241m.\u001b[39mvalues\n\u001b[1;32m      3\u001b[0m \u001b[38;5;66;03m#wavelengths = df[]\u001b[39;00m\n\u001b[1;32m      4\u001b[0m time \u001b[38;5;241m=\u001b[39m df\n",
      "\u001b[0;31mNameError\u001b[0m: name 'columns' is not defined"
     ]
    }
   ],
   "source": [
    "###get UV columns and Wavelengths\n",
    "uv_columns = df[columns].values\n",
    "#wavelengths = df[]\n",
    "time = df"
   ]
  },
  {
   "cell_type": "code",
   "execution_count": 3,
   "id": "a8e560b5-6b77-416d-8853-cbfb052877be",
   "metadata": {
    "tags": []
   },
   "outputs": [
    {
     "name": "stdout",
     "output_type": "stream",
     "text": [
      "Time column:\n",
      "0        0.004583\n",
      "1        0.011250\n",
      "2        0.017917\n",
      "3        0.024583\n",
      "4        0.031250\n",
      "          ...    \n",
      "3745    24.971250\n",
      "3746    24.977917\n",
      "3747    24.984583\n",
      "3748    24.991250\n",
      "3749    24.997917\n",
      "Name: Time, Length: 3750, dtype: float64\n",
      "\n",
      "UV_wavelength:\n",
      "0       0.011921\n",
      "1       0.014782\n",
      "2       0.020504\n",
      "3       0.028610\n",
      "4       0.038147\n",
      "          ...   \n",
      "3745    4.396439\n",
      "3746    4.392624\n",
      "3747    4.390717\n",
      "3748    4.389763\n",
      "3749    4.389763\n",
      "Name: UV_wavelength, Length: 3750, dtype: float64\n"
     ]
    }
   ],
   "source": [
    "\n",
    "\n",
    "df = pd.read_csv('2024-1-312712-311348c-Ghd7fl-MBP.dx_DAD1E.CSV', header=None, names=['Time', 'UV_wavelength'])\n",
    "\n",
    "# Extract time and data columns\n",
    "time_column = df['Time'] \n",
    "UV_280 = df['UV_wavelength']  \n",
    "print(\"Time column:\")\n",
    "print(time_column)\n",
    "\n",
    "print(\"\\nUV_wavelength:\")\n",
    "print(UV_280)\n"
   ]
  },
  {
   "cell_type": "code",
   "execution_count": 4,
   "id": "c2efc715-47fc-4be4-bad2-0aaaa443728f",
   "metadata": {
    "tags": []
   },
   "outputs": [
    {
     "data": {
      "text/plain": [
       "[<matplotlib.lines.Line2D at 0x2afd1f4b2690>]"
      ]
     },
     "execution_count": 4,
     "metadata": {},
     "output_type": "execute_result"
    },
    {
     "data": {
      "image/png": "[encoded data removed]",
      "text/plain": [
       "<Figure size 640x480 with 1 Axes>"
      ]
     },
     "metadata": {},
     "output_type": "display_data"
    }
   ],
   "source": [
    "plt.plot(time_column, UV_280)"
   ]
  },
  {
   "cell_type": "code",
   "execution_count": 37,
   "id": "efba7f0f-0fd8-4b79-9dbb-4dc097e03306",
   "metadata": {
    "tags": []
   },
   "outputs": [],
   "source": [
    "hlf_max= UV_280.max()/2"
   ]
  },
  {
   "cell_type": "code",
   "execution_count": 38,
   "id": "dd4baab2-bdfe-4f2f-9ca3-745419e22a58",
   "metadata": {
    "tags": []
   },
   "outputs": [
    {
     "data": {
      "text/plain": [
       "375.391483306885"
      ]
     },
     "execution_count": 38,
     "metadata": {},
     "output_type": "execute_result"
    }
   ],
   "source": [
    "hlf_max"
   ]
  },
  {
   "cell_type": "code",
   "execution_count": 8,
   "id": "e03baadc-e1bd-45ce-aae8-991452ab9430",
   "metadata": {
    "tags": []
   },
   "outputs": [
    {
     "data": {
      "text/plain": [
       "375.391483306885"
      ]
     },
     "execution_count": 8,
     "metadata": {},
     "output_type": "execute_result"
    }
   ],
   "source": [
    "fwhm"
   ]
  },
  {
   "cell_type": "code",
   "execution_count": 39,
   "id": "010d7bdb-493f-42b4-8421-aa085e4c3999",
   "metadata": {
    "tags": []
   },
   "outputs": [],
   "source": [
    "peak_max_index=UV_280.idxmax()"
   ]
  },
  {
   "cell_type": "code",
   "execution_count": 40,
   "id": "05ea8f48-91bd-4a6e-bcfd-437370848bdf",
   "metadata": {
    "tags": []
   },
   "outputs": [
    {
     "data": {
      "text/plain": [
       "1106"
      ]
     },
     "execution_count": 40,
     "metadata": {},
     "output_type": "execute_result"
    }
   ],
   "source": [
    "peak_max_index"
   ]
  },
  {
   "cell_type": "code",
   "execution_count": 41,
   "id": "a3d66971-e9fe-44a3-a574-71af46af84d3",
   "metadata": {
    "tags": []
   },
   "outputs": [],
   "source": [
    "peak_max_index_time=time_column.idxmax()"
   ]
  },
  {
   "cell_type": "code",
   "execution_count": 42,
   "id": "ce27e513-8755-4365-a74a-3c3bcdd042ef",
   "metadata": {
    "tags": []
   },
   "outputs": [
    {
     "data": {
      "text/plain": [
       "3749"
      ]
     },
     "execution_count": 42,
     "metadata": {},
     "output_type": "execute_result"
    }
   ],
   "source": [
    "peak_max_index_time"
   ]
  },
  {
   "cell_type": "code",
   "execution_count": 13,
   "id": "3a116287-c2eb-490d-8526-9b32afc1cbd4",
   "metadata": {
    "tags": []
   },
   "outputs": [
    {
     "data": {
      "text/plain": [
       "750.78296661377"
      ]
     },
     "execution_count": 13,
     "metadata": {},
     "output_type": "execute_result"
    }
   ],
   "source": [
    "df[\"UV_wavelength\"]"
   ]
  },
  {
   "cell_type": "code",
   "execution_count": 49,
   "id": "6cd457b2-9224-4ad8-848e-04d79a23d1ae",
   "metadata": {
    "tags": []
   },
   "outputs": [],
   "source": [
    "left_half_max_index = (df[df['UV_wavelength'] >= hlf_max]['Time']).idxmin()\n",
    "right_half_max_index = (df[df['UV_wavelength'] >= hlf_max]['Time']).idxmax()"
   ]
  },
  {
   "cell_type": "code",
   "execution_count": 44,
   "id": "ceaaeec9-def2-4dae-941d-73a5ca152df5",
   "metadata": {
    "tags": []
   },
   "outputs": [
    {
     "data": {
      "text/plain": [
       "1041"
      ]
     },
     "execution_count": 44,
     "metadata": {},
     "output_type": "execute_result"
    }
   ],
   "source": [
    "left_half_max_index"
   ]
  },
  {
   "cell_type": "code",
   "execution_count": 45,
   "id": "5548ecda-8d92-4ce5-8b3b-a474d15cf490",
   "metadata": {
    "tags": []
   },
   "outputs": [
    {
     "data": {
      "text/plain": [
       "1235"
      ]
     },
     "execution_count": 45,
     "metadata": {},
     "output_type": "execute_result"
    }
   ],
   "source": [
    "right_half_max_index"
   ]
  },
  {
   "cell_type": "code",
   "execution_count": 22,
   "id": "b38c419e-cd14-4c8b-8234-9c83f578f421",
   "metadata": {
    "tags": []
   },
   "outputs": [
    {
     "name": "stdout",
     "output_type": "stream",
     "text": [
      "1.29333333333334\n"
     ]
    }
   ],
   "source": [
    "###width\n",
    "peak_width = df.loc[right_half_max_index, \"Time\"] - df.loc[left_half_max_index, \"Time\"]\n",
    "print(peak_width)"
   ]
  },
  {
   "cell_type": "code",
   "execution_count": 52,
   "id": "e6e74e55-5c47-47cd-b851-f11cf698a706",
   "metadata": {
    "tags": []
   },
   "outputs": [],
   "source": [
    "UV_values=df[\"UV_wavelength\"].values\n",
    "time_values=df[\"Time\"].values"
   ]
  },
  {
   "cell_type": "code",
   "execution_count": 26,
   "id": "553b3327-3ab9-4a63-8e21-d927a670ad5c",
   "metadata": {
    "tags": []
   },
   "outputs": [
    {
     "data": {
      "text/plain": [
       "31.040000000000166"
      ]
     },
     "execution_count": 26,
     "metadata": {},
     "output_type": "execute_result"
    }
   ],
   "source": [
    "(peak_width/2.5)*60"
   ]
  },
  {
   "cell_type": "code",
   "execution_count": 57,
   "id": "9c910999-7111-428b-b70c-d08393cafd4f",
   "metadata": {
    "tags": []
   },
   "outputs": [],
   "source": [
    "area_under_peak = tp(df[\"UV_wavelength\"][left_half_max_index:right_half_max_index + 1], x=df[\"Time\"][left_half_max_index:right_half_max_index + 1])"
   ]
  },
  {
   "cell_type": "code",
   "execution_count": 61,
   "id": "8bedf67c-7ec4-4210-8380-7dd6a5708c47",
   "metadata": {
    "tags": []
   },
   "outputs": [
    {
     "name": "stdout",
     "output_type": "stream",
     "text": [
      "0.7737441333134996\n"
     ]
    }
   ],
   "source": [
    "print(area_under_peak/1000)"
   ]
  },
  {
   "cell_type": "code",
   "execution_count": 62,
   "id": "695506fb-44e3-402d-b760-1103c38f7bda",
   "metadata": {
    "tags": []
   },
   "outputs": [
    {
     "name": "stdout",
     "output_type": "stream",
     "text": [
      "Concentration (mg/mL): 0.3051315789473685\n"
     ]
    }
   ],
   "source": [
    "\n",
    "molar_absorp = 38000# Example molar absorptivity coefficient in L mol^-1 cm^-1\n",
    "path_length = 1  # Example path length in cm\n",
    "absorbance = .773  # Example absorbance\n",
    "\n",
    "\n",
    "concentration_molar = absorbance / (molar_absorp * path_length)\n",
    "\n",
    "# Convert concentration to mg/mL (assuming molecular weight of solute is known)\n",
    "molecular_weight = 15000  #g/mol\n",
    "concentration_mg_ml = concentration_molar * molecular_weight\n",
    "\n",
    "\n",
    "print(\"Concentration (mg/mL):\", concentration_mg_ml)\n"
   ]
  },
  {
   "cell_type": "code",
   "execution_count": 83,
   "id": "09cffc52-c88a-4abd-8e04-8696f4392fd2",
   "metadata": {
    "tags": []
   },
   "outputs": [],
   "source": [
    "def concentration_UV_280(molar_absorp,  absorbance, molecular_weight, path_length=1):\n",
    "    concentration_molar = absorbance / (molar_absorp * path_length)\n",
    "    concentration_mg_ml = concentration_molar * molecular_weight\n",
    "    return concentration_mg_ml\n",
    "    print(f'Concentration in mg_ml is : {concentration_mg_ml}')\n",
    "    \n",
    "    \n",
    "    "
   ]
  },
  {
   "cell_type": "code",
   "execution_count": 84,
   "id": "164a755b-673d-40d8-8928-11d0e258fe65",
   "metadata": {
    "tags": []
   },
   "outputs": [],
   "source": [
    "def integrate_UV_280(spreadsheet):\n",
    "    df= pd.read_csv(spreadsheet, header=None, names=['Time', 'UV_wavelength'])\n",
    "    time_column = df['Time'] \n",
    "    UV_280 = df['UV_wavelength'] \n",
    "    plt.plot(time_column, UV_280)\n",
    "    hlf_max= UV_280.max()/2\n",
    "    left_half_max_index = (df[df['UV_wavelength'] >= hlf_max]['Time']).idxmin()\n",
    "    right_half_max_index = (df[df['UV_wavelength'] >= hlf_max]['Time']).idxmax()\n",
    "    peak_width = df.loc[right_half_max_index, \"Time\"] - df.loc[left_half_max_index, \"Time\"]\n",
    "    UV_values=df[\"UV_wavelength\"].values\n",
    "    time_values=df[\"Time\"].values\n",
    "    area_under_peak = (tp(df[\"UV_wavelength\"][left_half_max_index:right_half_max_index + 1], x=df[\"Time\"][left_half_max_index:right_half_max_index + 1]))/1000 ##data in maU\n",
    "    print(f\" peak width: {peak_width} area_under_peak: {area_under_peak}\")\n",
    "    return peak_width, area_under_peak\n",
    "    \n",
    "\n",
    "    \n",
    "    \n",
    "    "
   ]
  },
  {
   "cell_type": "code",
   "execution_count": 85,
   "id": "74b0bacd-4ab4-4d00-be41-0be369bf5ab4",
   "metadata": {
    "tags": []
   },
   "outputs": [],
   "source": [
    "def protein_concentration_from_agilent(spreadsheet, molar_absorp,molecular_weight):\n",
    "    peak_width, area_under_peak = integrate_UV_280(spreadsheet=spreadsheet)\n",
    "    conc = concentration_UV_280(molar_absorp=molar_absorp, absorbance=area_under_peak, molecular_weight=molecular_weight)\n",
    "    print(f\" The concentration based on UV is {conc} mg/mL\")\n",
    "    return conc\n",
    "    "
   ]
  },
  {
   "cell_type": "code",
   "execution_count": 96,
   "id": "47009335-59e4-4689-8a4b-e652d5304e14",
   "metadata": {
    "tags": []
   },
   "outputs": [
    {
     "data": {
      "image/png": "[encoded data removed]",
      "text/plain": [
       "<Figure size 640x480 with 1 Axes>"
      ]
     },
     "metadata": {},
     "output_type": "display_data"
    },
    {
     "name": "stdout",
     "output_type": "stream",
     "text": [
      "Peak width: 1.29333333333334, Area under peak: 0.7737441333134996\n",
      " The concentration based on UV is 0.30542531578164456 mg/mL\n"
     ]
    },
    {
     "data": {
      "text/plain": [
       "0.30542531578164456"
      ]
     },
     "execution_count": 96,
     "metadata": {},
     "output_type": "execute_result"
    }
   ],
   "source": [
    "protein_concentration_from_agilent(\"2024-1-312712-311348c-Ghd7fl-MBP.dx_DAD1E.CSV\", 38000, 15000)"
   ]
  },
  {
   "cell_type": "code",
   "execution_count": 88,
   "id": "33a44989-fd5d-42cc-a1ba-ddd9d44ca93b",
   "metadata": {
    "tags": []
   },
   "outputs": [
    {
     "data": {
      "text/plain": [
       "[<matplotlib.lines.Line2D at 0x2adaba75fc90>]"
      ]
     },
     "execution_count": 88,
     "metadata": {},
     "output_type": "execute_result"
    },
    {
     "data": {
      "image/png": "[encoded data removed]",
      "text/plain": [
       "<Figure size 640x480 with 1 Axes>"
      ]
     },
     "metadata": {},
     "output_type": "display_data"
    }
   ],
   "source": [
    "plt.figure()\n",
    "plt.plot(time_column, UV_280)\n",
    "#plt.axvspan(df[\"UV_wavelength\"].valuesleft_half_max_index, right_half_max_index, color='gray', alpha=0.3, label='Peak Width')"
   ]
  },
  {
   "cell_type": "code",
   "execution_count": null,
   "id": "db99ce0a-803c-46c1-9e23-2c1cbad2681e",
   "metadata": {},
   "outputs": [],
   "source": [
    "injection_volume = 50\n"
   ]
  },
  {
   "cell_type": "code",
   "execution_count": 98,
   "id": "94bc6d79-dbda-44a2-91fc-8bcd81ab782f",
   "metadata": {
    "tags": []
   },
   "outputs": [],
   "source": [
    "\n",
    "\n",
    "def integrate_UV_280(spreadsheet):\n",
    "    # Read data\n",
    "    df = pd.read_csv(spreadsheet, header=None, names=['Time', 'UV_wavelength'])\n",
    "    time_column = df['Time'] \n",
    "    UV_280 = df['UV_wavelength'] \n",
    "    \n",
    "    # Plot data\n",
    "    plt.plot(time_column, UV_280)\n",
    "    \n",
    "    # Calculate half-maximum value\n",
    "    hlf_max = UV_280.max() / 2\n",
    "    \n",
    "    # Find indices corresponding to half-maximum\n",
    "    left_half_max_index = UV_280.index[UV_280 >= hlf_max][0]\n",
    "    right_half_max_index = UV_280.index[UV_280 >= hlf_max][-1]\n",
    "    \n",
    "    # Calculate peak width\n",
    "    peak_width = time_column[right_half_max_index] - time_column[left_half_max_index]\n",
    "    \n",
    "    # Perform integration using trapz\n",
    "    area_under_peak = tp(UV_280[left_half_max_index:right_half_max_index + 1], \n",
    "                            x=time_column[left_half_max_index:right_half_max_index + 1]) / 1000\n",
    "    \n",
    "    # Plot peak width\n",
    "    plt.axvline(x=time_column[left_half_max_index], color='r', linestyle='--', label='Peak Width Start')\n",
    "    plt.axvline(x=time_column[right_half_max_index], color='r', linestyle='--', label='Peak Width End')\n",
    "    \n",
    "    plt.xlabel('Time')\n",
    "    plt.ylabel('UV 280')\n",
    "    plt.title('UV 280 vs. Time')\n",
    "    plt.legend()\n",
    "    plt.grid(True)\n",
    "    plt.show()\n",
    "    \n",
    "    print(f\"Peak width: {peak_width}, Area under peak: {area_under_peak}\")\n",
    "    \n",
    "    return peak_width, area_under_peak\n",
    "\n",
    "\n",
    "\n"
   ]
  },
  {
   "cell_type": "code",
   "execution_count": 100,
   "id": "cc05bbe5-f2c5-45ed-adb6-81bfa2a6a4a8",
   "metadata": {
    "tags": []
   },
   "outputs": [
    {
     "data": {
      "image/png": "[encoded data removed]",
      "text/plain": [
       "<Figure size 640x480 with 1 Axes>"
      ]
     },
     "metadata": {},
     "output_type": "display_data"
    },
    {
     "name": "stdout",
     "output_type": "stream",
     "text": [
      "Peak width: 0.5733333333333329, Area under peak: 1.1741704289118442\n"
     ]
    },
    {
     "data": {
      "text/plain": [
       "(0.5733333333333329, 1.1741704289118442)"
      ]
     },
     "execution_count": 100,
     "metadata": {},
     "output_type": "execute_result"
    }
   ],
   "source": [
    "integrate_UV_280(\"2022-3-311944-310422-Lyz_nc_60_035.dx_DAD1E.csv\")"
   ]
  },
  {
   "cell_type": "code",
   "execution_count": 101,
   "id": "2b2bfaec-abe3-46e7-b7eb-3317470db9c4",
   "metadata": {
    "tags": []
   },
   "outputs": [
    {
     "data": {
      "text/plain": [
       "0.19949999999999998"
      ]
     },
     "execution_count": 101,
     "metadata": {},
     "output_type": "execute_result"
    }
   ],
   "source": [
    "0.57*0.35"
   ]
  },
  {
   "cell_type": "code",
   "execution_count": 102,
   "id": "2a83e083-5c50-4cda-92a8-03ddef27298a",
   "metadata": {
    "tags": []
   },
   "outputs": [
    {
     "data": {
      "text/plain": [
       "0.25"
      ]
     },
     "execution_count": 102,
     "metadata": {},
     "output_type": "execute_result"
    }
   ],
   "source": [
    "50/200"
   ]
  },
  {
   "cell_type": "code",
   "execution_count": 103,
   "id": "42d4b767-a876-4c80-8b98-228111b83aea",
   "metadata": {
    "tags": []
   },
   "outputs": [
    {
     "data": {
      "text/plain": [
       "4.0"
      ]
     },
     "execution_count": 103,
     "metadata": {},
     "output_type": "execute_result"
    }
   ],
   "source": [
    "200/50"
   ]
  },
  {
   "cell_type": "code",
   "execution_count": 13,
   "id": "343f2c73-8ef3-4595-9ba6-b89a6a1ae15c",
   "metadata": {
    "tags": []
   },
   "outputs": [],
   "source": [
    "def find_peaks(UV_data, window_size, threshold):\n",
    "    peaks = []\n",
    "    for i in range(len(UV_data) - window_size + 1):\n",
    "        window = UV_data[i:i+window_size]\n",
    "        max_value = window.max()  # Use max() method to find the maximum value\n",
    "        if max_value >= threshold:\n",
    "            # If the maximum value in the window is above the threshold, \n",
    "            # consider it as a peak and record its index\n",
    "            peak_index = i + window.argmax()  # Use argmax() method to find the index of the maximum value\n",
    "            peaks.append(peak_index)\n",
    "    return peaks\n"
   ]
  },
  {
   "cell_type": "code",
   "execution_count": 18,
   "id": "5991b85d-cdd7-4b95-8121-965bc0947d85",
   "metadata": {
    "tags": []
   },
   "outputs": [],
   "source": [
    "peaks=find_peaks(UV_280, window_size=10, threshold=250)"
   ]
  },
  {
   "cell_type": "code",
   "execution_count": 20,
   "id": "d668aecf-1120-4052-8963-fe2c0c870a41",
   "metadata": {
    "tags": []
   },
   "outputs": [
    {
     "data": {
      "text/plain": [
       "1285"
      ]
     },
     "execution_count": 20,
     "metadata": {},
     "output_type": "execute_result"
    }
   ],
   "source": [
    "max(peaks)"
   ]
  },
  {
   "cell_type": "code",
   "execution_count": 23,
   "id": "97820a35-cd04-4ddf-8117-1376fa4c5da2",
   "metadata": {
    "tags": []
   },
   "outputs": [
    {
     "ename": "SyntaxError",
     "evalue": "invalid syntax (2436703821.py, line 1)",
     "output_type": "error",
     "traceback": [
      "\u001b[0;36m  Cell \u001b[0;32mIn[23], line 1\u001b[0;36m\u001b[0m\n\u001b[0;31m    peaks.[1285]\u001b[0m\n\u001b[0m          ^\u001b[0m\n\u001b[0;31mSyntaxError\u001b[0m\u001b[0;31m:\u001b[0m invalid syntax\n"
     ]
    }
   ],
   "source": [
    "peaks.[1285]"
   ]
  },
  {
   "cell_type": "code",
   "execution_count": null,
   "id": "300dfa3b-7d55-4311-ac7c-c4f9ef1950e1",
   "metadata": {},
   "outputs": [],
   "source": []
  }
 ],
 "metadata": {
  "kernelspec": {
   "display_name": "Python 3 (ipykernel)",
   "language": "python",
   "name": "python3"
  },
  "language_info": {
   "codemirror_mode": {
    "name": "ipython",
    "version": 3
   },
   "file_extension": ".py",
   "mimetype": "text/x-python",
   "name": "python",
   "nbconvert_exporter": "python",
   "pygments_lexer": "ipython3",
   "version": "3.11.6"
  }
 },
 "nbformat": 4,
 "nbformat_minor": 5
}
