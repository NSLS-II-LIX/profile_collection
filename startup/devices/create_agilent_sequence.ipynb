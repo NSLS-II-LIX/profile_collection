{
 "cells": [
  {
   "cell_type": "code",
   "execution_count": 1,
   "id": "cd1537d7-f347-4d18-aa09-5dc2c2ab0864",
   "metadata": {
    "tags": []
   },
   "outputs": [],
   "source": [
    "import pandas as pd"
   ]
  },
  {
   "cell_type": "code",
   "execution_count": 3,
   "id": "6871f30b-b886-4287-bd3c-89691e9d48dd",
   "metadata": {
    "tags": []
   },
   "outputs": [],
   "source": [
    "def create_agilent_prep(spreadsheet_fn, batch_id, proposal_id=None, run_id=None, current_cycle=None, sheet_name='Samples'):\n",
    "    \"\"\"\n",
    "    Creates an Agilent sample list from the spreadsheet. This will collate all the necessary parameters for Agilent and prep it to send over to HPLC.\n",
    "    \n",
    "    Args:\n",
    "        spreadsheet_fn (str): File path of the spreadsheet.\n",
    "        batch_id (str): Identifier for the batch.\n",
    "        proposal_id (str, optional): Identifier for the proposal. Defaults to None.\n",
    "        run_id (str, optional): Identifier for the run. Defaults to None.\n",
    "        current_cycle (str, optional): Identifier for the current cycle. Defaults to None.\n",
    "        sheet_name (str, optional): Name of the sheet in the spreadsheet. Defaults to 'Samples'.\n",
    "    \n",
    "    Returns:\n",
    "        dict, dict: Samples dictionary, Valve position dictionary.\n",
    "    \"\"\"\n",
    "    # Define the columns mapping for flexibility\n",
    "    column_mapping = {\n",
    "        \"Vial\": \"Vial\",\n",
    "        \"Sample Name\": \"Sample Name\",\n",
    "        \"Injection Volume\": \"Volume\",\n",
    "        \"Buffer\": \"Buffer\",\n",
    "        \"Proc. method\": \"Proc. method\",\n",
    "        \"Data file\": \"Data File\",\n",
    "        # Add more mappings as needed\n",
    "    }\n",
    "    \n",
    "    # Read spreadsheet into a dictionary\n",
    "    spreadsheet_data = parse_spreadsheet(spreadsheet_fn, sheet_name=sheet_name, return_dataframe=False)\n",
    "    print(f\"Spreadsheet data: {spreadsheet_data}\")\n",
    "    \n",
    "    # Autofill the spreadsheet\n",
    "    autofill_spreadsheet(spreadsheet_data, fields=[\"batchID\"])\n",
    "    \n",
    "    # Check if login is required\n",
    "    if proposal_id is None or run_id is None:\n",
    "        print(\"Login is required...\")\n",
    "        login()\n",
    "    \n",
    "    # Get indices of rows with matching batch ID\n",
    "    matching_indices = [i for i, value in spreadsheet_data['batchID'].items() if value == batch_id]\n",
    "    print(f\"Matching indices: {matching_indices}\")\n",
    "    \n",
    "    # Initialize dictionaries for samples and valve positions\n",
    "    samples = {}\n",
    "    valve_positions = {}\n",
    "    \n",
    "    # Define data file path\n",
    "    data_file_path = f\"{current_cycle}/{proposal_id}/{run_id}/<S>\" \n",
    "    \n",
    "    for i in matching_indices:\n",
    "        # Process each row\n",
    "        for key in spreadsheet_data.keys():\n",
    "            if key in column_mapping:\n",
    "                # Map columns according to the defined mapping\n",
    "                if not isinstance(spreadsheet_data[key][i], (int, float)):\n",
    "                    raise Exception(f\"Not a numeric value for {key}: {spreadsheet_data[key][i]}, replace with a number\")\n",
    "                spreadsheet_data[column_mapping[key]][i] = spreadsheet_data[key][i]\n",
    "        \n",
    "        # Get valve position\n",
    "        valve_positions[i] = spreadsheet_data.get(\"Valve Position\", {}).get(i)\n",
    "        print(valve_positions)\n",
    "        \n",
    "        # Get sample name\n",
    "        sample_name = spreadsheet_data.get('Sample Name', {}).get(i)\n",
    "        if sample_name:\n",
    "            samples[sample_name] = {\n",
    "                \"acq time\": spreadsheet_data.get('Run Time', {}).get(i), \n",
    "                \"valve_position\": valve_positions[i],\n",
    "                \"md\": {\n",
    "                    \"Column type\": spreadsheet_data.get('Column type', {}).get(i),\n",
    "                    \"Injection Volume (ul)\": spreadsheet_data.get('Volume', {}).get(i),\n",
    "                    \"Flow Rate (ml_min)\": spreadsheet_data.get('Flow Rate', {}).get(i),\n",
    "                    \"Sample buffer\": spreadsheet_data.get('Buffer', {}).get(i),\n",
    "                    \"Valve Position\": valve_positions[i]\n",
    "                }\n",
    "            }\n",
    "        \n",
    "        # Set data file path\n",
    "        spreadsheet_data[\"Data File\"][i] = data_file_path\n",
    "    \n",
    "    # Define the sequence path\n",
    "    sequence_path = \"/nsls2/data/lix/legacy/HPLC/Agilent/\"\n",
    "    \n",
    "    # Convert spreadsheet data to DataFrame\n",
    "    df = pd.DataFrame.from_dict(spreadsheet_data, orient='columns')\n",
    "    \n",
    "    # Write DataFrame to CSV\n",
    "    df[df['batchID'] == batch_id].to_csv(f\"{sequence_path}sequence_table.csv\", index=False, encoding=\"ASCII\",\n",
    "                                         columns=[\"Vial\", \"Sample Name\", \"Sample Type\", \"Volume\", \"Inj/Vial\", \"Acq. method\", \"Proc. method\", \"Data File\"])\n",
    "    \n",
    "    return samples, flowpath, column_type, agilent_pump_channel, "
   ]
  },
  {
   "cell_type": "code",
   "execution_count": null,
   "id": "69d8f89c-5bfe-4845-9859-b138b5fd9c8e",
   "metadata": {},
   "outputs": [],
   "source": [
    "###send over individual runs to agilent\n",
    "def send_hplc_run():\n",
    "    \"\"\"\n",
    "    This will take all the necessary parameters and send over to hplc and initiate run.  This will also prepare beamline and wait for injection signal\n",
    "    \"\"\"\n",
    "    pass"
   ]
  },
  {
   "cell_type": "code",
   "execution_count": 1,
   "id": "ca95d145-1878-4606-bf25-5b53e0ecccfc",
   "metadata": {
    "tags": []
   },
   "outputs": [],
   "source": [
    "from time import sleep\n",
    "from enum import Enum\n",
    "import yaml\n",
    "import pandas as pd"
   ]
  },
  {
   "cell_type": "code",
   "execution_count": 99,
   "id": "524197c8-0bcd-4c77-afe3-54fb294ea808",
   "metadata": {
    "tags": []
   },
   "outputs": [],
   "source": [
    "def get_sec_exp_param(experiment_type, column_type_name=None, column_position=None, buffer_position=None):\n",
    "    \"\"\"\n",
    "    Read the sec_experiment_parameters YAML file, check if the experiment type exists, and return the experiment type and column type and positions in a dictionary.\n",
    "\n",
    "    Args:\n",
    "        experiment_type (str): Name of the experiment type to search for. This is obtained in Spreadsheet.\n",
    "\n",
    "    Returns:\n",
    "        str, dict: Experiment type and corresponding column type if found, otherwise None.\n",
    "    \"\"\"\n",
    "    yaml_file = '/nsls2/data/lix/shared/config/bluesky/profile_collection/startup/devices/sec_experiment_parameters.yaml'  # Specify the fixed YAML file path here\n",
    "    \n",
    "    try:\n",
    "        with open(yaml_file, 'r') as file:\n",
    "            data = yaml.safe_load(file)\n",
    "    except FileNotFoundError:\n",
    "        print(\"Error: YAML file not found.\")\n",
    "        \n",
    "    sec_exp_param = {}\n",
    "    if column_position in [1,2] and 1 <= buffer_position <= 6:\n",
    "        print(\"you chose correctly\")\n",
    "        sec_exp_param.update({\"buffer_position\" :buffer_position, \"column_position\": column_position})\n",
    "        print(sec_exp_param)\n",
    "\n",
    "        experiment_types = data.get('experiment_types', [])\n",
    "        #print(experiment_types)\n",
    "        for experiment in experiment_types:\n",
    "                if experiment == experiment_type:\n",
    "                    sec_exp_param[\"experiment_type\"] = experiment_type\n",
    "                if experiment != experiment_type:\n",
    "                    print(f\"Error: Experiment type '{experiment_type}' not found in YAML file.\")\n",
    "              ##chose column type\n",
    "                if column_type_name is None:\n",
    "                    print(\"NO column specified: Default to Superdex 200 Increase 5/150GL (small)\")\n",
    "                    sec_exp_param[\"column_type\"] = \"Superdex 200 Increase 5/150 GL\"\n",
    "                    print(sec_exp_param)\n",
    "                else:\n",
    "                    for column in column_types:\n",
    "                        if column == column_type_name:\n",
    "                            sec_exp_param[\"column_type\"] = column_type_name\n",
    "                    if column != column_type_name:\n",
    "                        print(f\"column name {column_type_name} is not in the list of approved columns! Approved columns are {column_types.keys()}\")\n",
    "                return sec_exp_param\n",
    "\n",
    "                "
   ]
  },
  {
   "cell_type": "code",
   "execution_count": 103,
   "id": "1d13ecdf-92ae-49ab-aa21-f5e1a0d0677f",
   "metadata": {
    "tags": []
   },
   "outputs": [
    {
     "name": "stdout",
     "output_type": "stream",
     "text": [
      "you chose correctly\n",
      "{'buffer_position': 6, 'column_position': 2}\n"
     ]
    },
    {
     "data": {
      "text/plain": [
       "{'buffer_position': 6,\n",
       " 'column_position': 2,\n",
       " 'experiment_type': 'X-ray_only',\n",
       " 'column_type': 'Phenomenex dSEC2'}"
      ]
     },
     "execution_count": 103,
     "metadata": {},
     "output_type": "execute_result"
    }
   ],
   "source": [
    "get_sec_exp_param(\"X-ray_only\", \"Phenomenex dSEC2\", column_position=2, buffer_position=6)"
   ]
  },
  {
   "cell_type": "code",
   "execution_count": null,
   "id": "ac3eb69b-d7dc-4821-a4d4-43e139e8c799",
   "metadata": {},
   "outputs": [],
   "source": []
  },
  {
   "cell_type": "code",
   "execution_count": 25,
   "id": "aa840c24-4159-4888-a56a-91f68604bfd3",
   "metadata": {
    "tags": []
   },
   "outputs": [],
   "source": [
    "yaml_file = '/nsls2/data/lix/shared/config/bluesky/profile_collection/startup/devices/sec_experiment_parameters.yaml'  # Specify the fixed YAML file path here\n",
    "try:\n",
    "    with open(yaml_file, 'r') as file:\n",
    "        data = yaml.safe_load(file)\n",
    "except FileNotFoundError:\n",
    "    print(\"Error: YAML file not found.\")"
   ]
  },
  {
   "cell_type": "code",
   "execution_count": 26,
   "id": "d692bf4d-c0a8-496c-a036-588954aa5d3d",
   "metadata": {
    "tags": []
   },
   "outputs": [],
   "source": [
    "experiment_types=data.get('experiment_types')\n",
    "column_types=data.get('column_type')"
   ]
  },
  {
   "cell_type": "code",
   "execution_count": 27,
   "id": "20dc0b00-e8be-463a-9c06-e5c5179b65e2",
   "metadata": {
    "tags": []
   },
   "outputs": [
    {
     "data": {
      "text/plain": [
       "{'X-ray_only': {'buffer_position': [1, 2, 3, 4, 5, 6],\n",
       "  'column_position': [1, 2],\n",
       "  'valve_position': ['A', 'B']},\n",
       " 'X-ray_UV_MALS_RID': {'buffer_position': [1, 2, 3, 4, 5, 6],\n",
       "  'column_position': [1, 2],\n",
       "  'valve_position': ['A', 'B']},\n",
       " 'X-ray_Regen': {'buffer_position': [1, 2, 3, 4, 5, 6],\n",
       "  'column_position': [1, 2],\n",
       "  'valve_position': ['A', 'B']},\n",
       " 'UV_MALS_RID': {'buffer_position': [1, 2, 3, 4, 5, 6],\n",
       "  'column_position': [1, 2],\n",
       "  'valve_position': ['A', 'B']}}"
      ]
     },
     "execution_count": 27,
     "metadata": {},
     "output_type": "execute_result"
    }
   ],
   "source": [
    "experiment_types"
   ]
  },
  {
   "cell_type": "code",
   "execution_count": 28,
   "id": "b0212a45-a5e0-4dfc-b261-5f4b3098b479",
   "metadata": {
    "tags": []
   },
   "outputs": [
    {
     "data": {
      "text/plain": [
       "{'Superdex 200 Increase 5/150 GL': {'pressure_limit': [45],\n",
       "  'flowrate': [0.35],\n",
       "  'run_time': [12]},\n",
       " 'Superdex 200 Increase 10/300 GL': {'pressure_limit': [45],\n",
       "  'flowrate': [0.5],\n",
       "  'run_time': [50]},\n",
       " 'Phenomenex dSEC2': {'pressure_limit': [125],\n",
       "  'flowrate': [0.35],\n",
       "  'run_time': [30]}}"
      ]
     },
     "execution_count": 28,
     "metadata": {},
     "output_type": "execute_result"
    }
   ],
   "source": [
    "column_types"
   ]
  },
  {
   "cell_type": "code",
   "execution_count": 30,
   "id": "35229354-16ec-4764-baf4-931e73543bea",
   "metadata": {
    "tags": []
   },
   "outputs": [
    {
     "name": "stdout",
     "output_type": "stream",
     "text": [
      "X-ray_only\n",
      "X-ray_UV_MALS_RID\n",
      "X-ray_Regen\n",
      "UV_MALS_RID\n"
     ]
    }
   ],
   "source": [
    "for experiment in experiment_types:\n",
    "    #print(experiment)\n",
    "    if experiment:\n",
    "        print(experiment)"
   ]
  },
  {
   "cell_type": "code",
   "execution_count": 33,
   "id": "08055baf-9242-47c4-9620-17d0f923dade",
   "metadata": {
    "tags": []
   },
   "outputs": [
    {
     "name": "stdout",
     "output_type": "stream",
     "text": [
      "<class 'str'>\n",
      "<class 'str'>\n",
      "<class 'str'>\n"
     ]
    }
   ],
   "source": [
    "for column in column_types:\n",
    "    #print(column)\n",
    "    if column:\n",
    "        print(type(column))"
   ]
  },
  {
   "cell_type": "code",
   "execution_count": 54,
   "id": "a3072148-583f-490c-9a35-6ba3e81c098d",
   "metadata": {
    "tags": []
   },
   "outputs": [],
   "source": [
    "sec_exper_column=get_experiment_and_column_type(experiment_type=\"X-ray_only\", column_type_name=\"Phenomenex dSEC2\")"
   ]
  },
  {
   "cell_type": "code",
   "execution_count": 57,
   "id": "a88ba361-cee2-4d2d-9a54-58b9ab10c742",
   "metadata": {},
   "outputs": [
    {
     "data": {
      "text/plain": [
       "dict_keys(['experiment_type', 'column_type'])"
      ]
     },
     "execution_count": 57,
     "metadata": {},
     "output_type": "execute_result"
    }
   ],
   "source": [
    "sec_exper_column.keys()"
   ]
  },
  {
   "cell_type": "code",
   "execution_count": 64,
   "id": "ee63b855-7e3f-4af9-a7e7-fd4e7ffdd56e",
   "metadata": {
    "tags": []
   },
   "outputs": [],
   "source": [
    "def prepare_hplc_flowpath(experiment_type, column_position, buffer_position, columntype=None):\n",
    "    \"\"\" This will need to also send the proper arguments to agilent so that it pulls from correct pump line\n",
    "    \"\"\"\n",
    "    sec_exper_column = get_experiment_and_column_type(experiment_type, column_type_name=columntype, column_position=None, buffer_position=None)\n",
    "    \n",
    "    # Rest of the function logic goes here\n",
    "    if experiment_type == \"X-ray_only\":\n",
    "        valve_port = change_flowpath(column_position, column_info, buffer_position)\n",
    "        print(valve_port)\n",
    "    elif experiment_type == \"X-ray_UV_MALS_RID\":\n",
    "        valve_port = change_flowpath(column_position, column_info, buffer_position)\n",
    "        print(valve_port)\n",
    "    elif experiment_type == \"X-ray_Regen\":\n",
    "        valve_port = change_flowpath(column_position, column_info, buffer_position)\n",
    "        print(valve_port)\n",
    "    elif experiment_type == \"UV_MALS_RID_only\":\n",
    "        valve_port = change_flowpath(column_position, column_info, buffer_position)\n",
    "        print(valve_port)\n",
    "    return flowpath"
   ]
  },
  {
   "cell_type": "code",
   "execution_count": 69,
   "id": "62193b5b-9392-45ef-b0af-87db1b424efa",
   "metadata": {
    "tags": []
   },
   "outputs": [
    {
     "name": "stdout",
     "output_type": "stream",
     "text": [
      "NO column specified: Default to Superdex 200 Increase 5/150GL (small)\n",
      "{'buffer_position': None, 'column_position': None, 'experiment_type': 'X-ray_only', 'column_type': 'Superdex 200 Increase 5/150 GL'}\n"
     ]
    },
    {
     "ename": "NameError",
     "evalue": "name 'change_flowpath' is not defined",
     "output_type": "error",
     "traceback": [
      "\u001b[0;31m---------------------------------------------------------------------------\u001b[0m",
      "\u001b[0;31mNameError\u001b[0m                                 Traceback (most recent call last)",
      "Cell \u001b[0;32mIn[69], line 1\u001b[0m\n\u001b[0;32m----> 1\u001b[0m \u001b[43mprepare_hplc_flowpath\u001b[49m\u001b[43m(\u001b[49m\u001b[38;5;124;43m\"\u001b[39;49m\u001b[38;5;124;43mX-ray_only\u001b[39;49m\u001b[38;5;124;43m\"\u001b[39;49m\u001b[43m,\u001b[49m\u001b[43m \u001b[49m\u001b[38;5;124;43m\"\u001b[39;49m\u001b[38;5;124;43m1\u001b[39;49m\u001b[38;5;124;43m\"\u001b[39;49m\u001b[43m,\u001b[49m\u001b[43m \u001b[49m\u001b[38;5;124;43m\"\u001b[39;49m\u001b[38;5;124;43m1\u001b[39;49m\u001b[38;5;124;43m\"\u001b[39;49m\u001b[43m,\u001b[49m\u001b[43m \u001b[49m\u001b[43mcolumntype\u001b[49m\u001b[38;5;241;43m=\u001b[39;49m\u001b[38;5;28;43;01mNone\u001b[39;49;00m\u001b[43m)\u001b[49m\n",
      "Cell \u001b[0;32mIn[64], line 8\u001b[0m, in \u001b[0;36mprepare_hplc_flowpath\u001b[0;34m(experiment_type, column_position, buffer_position, columntype)\u001b[0m\n\u001b[1;32m      6\u001b[0m \u001b[38;5;66;03m# Rest of the function logic goes here\u001b[39;00m\n\u001b[1;32m      7\u001b[0m \u001b[38;5;28;01mif\u001b[39;00m experiment_type \u001b[38;5;241m==\u001b[39m \u001b[38;5;124m\"\u001b[39m\u001b[38;5;124mX-ray_only\u001b[39m\u001b[38;5;124m\"\u001b[39m:\n\u001b[0;32m----> 8\u001b[0m     valve_port \u001b[38;5;241m=\u001b[39m \u001b[43mchange_flowpath\u001b[49m(column_position, column_info, buffer_position)\n\u001b[1;32m      9\u001b[0m     \u001b[38;5;28mprint\u001b[39m(valve_port)\n\u001b[1;32m     10\u001b[0m \u001b[38;5;28;01melif\u001b[39;00m experiment_type \u001b[38;5;241m==\u001b[39m \u001b[38;5;124m\"\u001b[39m\u001b[38;5;124mX-ray_UV_MALS_RID\u001b[39m\u001b[38;5;124m\"\u001b[39m:\n",
      "\u001b[0;31mNameError\u001b[0m: name 'change_flowpath' is not defined"
     ]
    }
   ],
   "source": [
    "get_experiment_and_column_type"
   ]
  },
  {
   "cell_type": "code",
   "execution_count": null,
   "id": "c598109c-0a7d-4d75-a007-7e81047e60b3",
   "metadata": {},
   "outputs": [],
   "source": []
  }
 ],
 "metadata": {
  "kernelspec": {
   "display_name": "Python 3 (ipykernel)",
   "language": "python",
   "name": "python3"
  },
  "language_info": {
   "codemirror_mode": {
    "name": "ipython",
    "version": 3
   },
   "file_extension": ".py",
   "mimetype": "text/x-python",
   "name": "python",
   "nbconvert_exporter": "python",
   "pygments_lexer": "ipython3",
   "version": "3.11.6"
  }
 },
 "nbformat": 4,
 "nbformat_minor": 5
}
